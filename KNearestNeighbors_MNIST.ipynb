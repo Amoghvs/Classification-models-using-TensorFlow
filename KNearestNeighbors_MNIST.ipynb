{
 "cells": [
  {
   "cell_type": "markdown",
   "metadata": {},
   "source": [
    "# Handwritten Digit Classification using K-nearest-neighbors"
   ]
  },
  {
   "cell_type": "markdown",
   "metadata": {},
   "source": [
    "### Make the notebook compatible with both Python 2 and 3\n",
    "\n",
    "http://python-future.org/compatible_idioms.html"
   ]
  },
  {
   "cell_type": "code",
   "execution_count": 62,
   "metadata": {},
   "outputs": [],
   "source": [
    "from __future__ import absolute_import, division, print_function"
   ]
  },
  {
   "cell_type": "code",
   "execution_count": 63,
   "metadata": {},
   "outputs": [],
   "source": [
    "import numpy as np\n",
    "import tensorflow as tf"
   ]
  },
  {
   "cell_type": "markdown",
   "metadata": {},
   "source": [
    "### Plot graphs inline"
   ]
  },
  {
   "cell_type": "code",
   "execution_count": 64,
   "metadata": {},
   "outputs": [],
   "source": [
    "%matplotlib inline\n",
    "\n",
    "import matplotlib\n",
    "import matplotlib.pyplot as plt\n",
    "import tensorflow_examples\n",
    "import tensorflow.examples.tutorials\n"
   ]
  },
  {
   "cell_type": "code",
   "execution_count": 65,
   "metadata": {},
   "outputs": [
    {
     "name": "stdout",
     "output_type": "stream",
     "text": [
      "2.1.0\n",
      "1.18.1\n",
      "3.1.3\n"
     ]
    }
   ],
   "source": [
    "print(tf.__version__)\n",
    "print(np.__version__)\n",
    "print(matplotlib.__version__)"
   ]
  },
  {
   "cell_type": "markdown",
   "metadata": {},
   "source": [
    "### Download and extract the MNIST libraries\n",
    "\n",
    "The original site where this dataset is available: http://yann.lecun.com/exdb/mnist/"
   ]
  },
  {
   "cell_type": "code",
   "execution_count": 66,
   "metadata": {},
   "outputs": [
    {
     "name": "stdout",
     "output_type": "stream",
     "text": [
      "Extracting mnist_data/train-images-idx3-ubyte.gz\n",
      "Extracting mnist_data/train-labels-idx1-ubyte.gz\n",
      "Extracting mnist_data/t10k-images-idx3-ubyte.gz\n",
      "Extracting mnist_data/t10k-labels-idx1-ubyte.gz\n"
     ]
    }
   ],
   "source": [
    "# Import MNIST data\n",
    "from tensorflow.examples.tutorials.mnist import input_data\n",
    "\n",
    "# Store the MNIST data in mnist_data/\n",
    "mnist = input_data.read_data_sets(\"mnist_data/\")"
   ]
  },
  {
   "cell_type": "markdown",
   "metadata": {},
   "source": [
    "### Helper function to display one digit image\n",
    "\n",
    "Reshape the data from 1-D array to a 2-D array of 28x28 pixels"
   ]
  },
  {
   "cell_type": "code",
   "execution_count": 67,
   "metadata": {},
   "outputs": [],
   "source": [
    "def display_digit(digit):\n",
    "    plt.imshow(digit.reshape(28, 28), cmap=\"Greys\", interpolation='nearest')"
   ]
  },
  {
   "cell_type": "markdown",
   "metadata": {},
   "source": [
    "### Access the training and test data and the corresponding labels"
   ]
  },
  {
   "cell_type": "code",
   "execution_count": 68,
   "metadata": {},
   "outputs": [],
   "source": [
    "training_digits, training_labels = mnist.train.next_batch(1000)\n",
    "test_digits, test_labels = mnist.test.next_batch(200)"
   ]
  },
  {
   "cell_type": "code",
   "execution_count": 69,
   "metadata": {},
   "outputs": [
    {
     "data": {
      "image/png": "[encoded data removed]",
      "text/plain": [
       "<Figure size 432x288 with 1 Axes>"
      ]
     },
     "metadata": {
      "needs_background": "light"
     },
     "output_type": "display_data"
    }
   ],
   "source": [
    "display_digit(training_digits[1])"
   ]
  },
  {
   "cell_type": "code",
   "execution_count": 70,
   "metadata": {},
   "outputs": [
    {
     "data": {
      "text/plain": [
       "array([3, 2, 6, 5, 8], dtype=uint8)"
      ]
     },
     "execution_count": 70,
     "metadata": {},
     "output_type": "execute_result"
    }
   ],
   "source": [
    "training_labels[:5]"
   ]
  },
  {
   "cell_type": "code",
   "execution_count": 71,
   "metadata": {},
   "outputs": [],
   "source": [
    "ops.reset_default_graph()"
   ]
  },
  {
   "cell_type": "code",
   "execution_count": 72,
   "metadata": {},
   "outputs": [],
   "source": [
    "import tensorflow.compat.v1 as tf\n",
    "tf.disable_v2_behavior()"
   ]
  },
  {
   "cell_type": "markdown",
   "metadata": {},
   "source": [
    "### Placeholders for training and test data\n",
    "\n",
    "* The training dataset placeholder can have any number of instances and each instance is an array of 28x28 = 784 pixels\n",
    "* The test placeholder will hold just a single digit image at a time"
   ]
  },
  {
   "cell_type": "code",
   "execution_count": 73,
   "metadata": {},
   "outputs": [],
   "source": [
    "training_digits_pl = tf.placeholder(\"float\", [None, 784])\n",
    "\n",
    "test_digit_pl = tf.placeholder(\"float\", [784])"
   ]
  },
  {
   "cell_type": "markdown",
   "metadata": {},
   "source": [
    "### Get the label which occurs the most often in our predicted set\n",
    "\n",
    "* *labels*: The labels associated with the entire training dataset\n",
    "* *indices*: The indices of those images which are the closest to the test image\n",
    "* Returns the labels which has been predicted the most often"
   ]
  },
  {
   "cell_type": "code",
   "execution_count": 74,
   "metadata": {},
   "outputs": [],
   "source": [
    "def get_majority_predicted_label(labels, indices):\n",
    "    predicted_labels = []\n",
    "    for i in indices:\n",
    "        predicted_labels.append(labels[i])\n",
    "        \n",
    "    predicted_labels = np.array(predicted_labels)\n",
    "    \n",
    "    print(predicted_labels)\n",
    "    \n",
    "    # Place the labels into bins and find the bin with the highest number of labels\n",
    "    counts = np.bincount(predicted_labels)\n",
    "    \n",
    "    return np.argmax(counts)"
   ]
  },
  {
   "cell_type": "markdown",
   "metadata": {},
   "source": [
    "### Nearest neighbor calculation using L1 distance\n",
    "\n",
    "* Calculate the **absolute value** of the distance between the test image and the training set\n",
    "* Calculate the **sum** of the distance between the test image and all training images\n",
    "* Find the images in the training data that are the k closest neigbors\n",
    "* *top_k* finds the highest values, apply it to the negative of the distances"
   ]
  },
  {
   "cell_type": "code",
   "execution_count": 75,
   "metadata": {},
   "outputs": [],
   "source": [
    "l1_distance = tf.abs(tf.subtract(training_digits_pl, test_digit_pl))\n",
    "\n",
    "distance_l1 = tf.reduce_sum(l1_distance, axis=1)\n",
    "\n",
    "pred_knn_l1 = tf.nn.top_k(tf.negative(distance_l1), k=1)"
   ]
  },
  {
   "cell_type": "markdown",
   "metadata": {},
   "source": [
    "### Nearest neighbor calculation using L2 (Euclidean) distance\n",
    "\n",
    "* Calculate the **square** of the distance between the test image and the training set\n",
    "* Calculate the **square root of the sum of squares*** of the distance between the test image and all training images\n",
    "* Find the images in the training data that are the k closest neigbors\n",
    "* *top_k* finds the highest values, apply it to the negative of the distances"
   ]
  },
  {
   "cell_type": "code",
   "execution_count": 76,
   "metadata": {},
   "outputs": [],
   "source": [
    "# Nearest Neighbor calculation using L2 distance\n",
    "l2_distance = tf.square(tf.subtract(training_digits_pl, test_digit_pl))\n",
    "\n",
    "distance_l2 = tf.sqrt(tf.reduce_sum(l2_distance, axis=1))\n",
    "\n",
    "pred_knn_l2 = tf.nn.top_k(tf.negative(distance_l2), k=1)"
   ]
  },
  {
   "cell_type": "code",
   "execution_count": 77,
   "metadata": {},
   "outputs": [],
   "source": [
    "accuracy = 0."
   ]
  },
  {
   "cell_type": "code",
   "execution_count": 78,
   "metadata": {},
   "outputs": [],
   "source": [
    "# Initializing the variables\n",
    "init = tf.global_variables_initializer()"
   ]
  },
  {
   "cell_type": "code",
   "execution_count": 79,
   "metadata": {},
   "outputs": [
    {
     "name": "stdout",
     "output_type": "stream",
     "text": [
      "[3]\n",
      "Test 0 Prediction: 3 True Label: 3\n",
      "[3]\n",
      "Test 1 Prediction: 3 True Label: 3\n",
      "[6]\n",
      "Test 2 Prediction: 6 True Label: 6\n",
      "[3]\n",
      "Test 3 Prediction: 3 True Label: 3\n",
      "[4]\n",
      "Test 4 Prediction: 4 True Label: 4\n",
      "[3]\n",
      "Test 5 Prediction: 3 True Label: 3\n",
      "[6]\n",
      "Test 6 Prediction: 6 True Label: 6\n",
      "[0]\n",
      "Test 7 Prediction: 0 True Label: 0\n",
      "[2]\n",
      "Test 8 Prediction: 2 True Label: 2\n",
      "[6]\n",
      "Test 9 Prediction: 6 True Label: 6\n",
      "[4]\n",
      "Test 10 Prediction: 4 True Label: 4\n",
      "[2]\n",
      "Test 11 Prediction: 2 True Label: 2\n",
      "[9]\n",
      "Test 12 Prediction: 9 True Label: 9\n",
      "[6]\n",
      "Test 13 Prediction: 6 True Label: 6\n",
      "[9]\n",
      "Test 14 Prediction: 9 True Label: 9\n",
      "[6]\n",
      "Test 15 Prediction: 6 True Label: 6\n",
      "[6]\n",
      "Test 16 Prediction: 6 True Label: 6\n",
      "[4]\n",
      "Test 17 Prediction: 4 True Label: 4\n",
      "[4]\n",
      "Test 18 Prediction: 4 True Label: 4\n",
      "[2]\n",
      "Test 19 Prediction: 2 True Label: 2\n",
      "[8]\n",
      "Test 20 Prediction: 8 True Label: 8\n",
      "[5]\n",
      "Test 21 Prediction: 5 True Label: 5\n",
      "[8]\n",
      "Test 22 Prediction: 8 True Label: 8\n",
      "[7]\n",
      "Test 23 Prediction: 7 True Label: 7\n",
      "[6]\n",
      "Test 24 Prediction: 6 True Label: 6\n",
      "[5]\n",
      "Test 25 Prediction: 5 True Label: 5\n",
      "[9]\n",
      "Test 26 Prediction: 9 True Label: 7\n",
      "[7]\n",
      "Test 27 Prediction: 7 True Label: 7\n",
      "[4]\n",
      "Test 28 Prediction: 4 True Label: 4\n",
      "[0]\n",
      "Test 29 Prediction: 0 True Label: 0\n",
      "[9]\n",
      "Test 30 Prediction: 9 True Label: 4\n",
      "[9]\n",
      "Test 31 Prediction: 9 True Label: 9\n",
      "[6]\n",
      "Test 32 Prediction: 6 True Label: 6\n",
      "[0]\n",
      "Test 33 Prediction: 0 True Label: 0\n",
      "[1]\n",
      "Test 34 Prediction: 1 True Label: 1\n",
      "[9]\n",
      "Test 35 Prediction: 9 True Label: 9\n",
      "[7]\n",
      "Test 36 Prediction: 7 True Label: 7\n",
      "[7]\n",
      "Test 37 Prediction: 7 True Label: 7\n",
      "[6]\n",
      "Test 38 Prediction: 6 True Label: 6\n",
      "[6]\n",
      "Test 39 Prediction: 6 True Label: 6\n",
      "[7]\n",
      "Test 40 Prediction: 7 True Label: 8\n",
      "[4]\n",
      "Test 41 Prediction: 4 True Label: 4\n",
      "[1]\n",
      "Test 42 Prediction: 1 True Label: 1\n",
      "[4]\n",
      "Test 43 Prediction: 4 True Label: 4\n",
      "[4]\n",
      "Test 44 Prediction: 4 True Label: 4\n",
      "[1]\n",
      "Test 45 Prediction: 1 True Label: 1\n",
      "[9]\n",
      "Test 46 Prediction: 9 True Label: 9\n",
      "[7]\n",
      "Test 47 Prediction: 7 True Label: 7\n",
      "[0]\n",
      "Test 48 Prediction: 0 True Label: 0\n",
      "[5]\n",
      "Test 49 Prediction: 5 True Label: 0\n",
      "[6]\n",
      "Test 50 Prediction: 6 True Label: 6\n",
      "[6]\n",
      "Test 51 Prediction: 6 True Label: 6\n",
      "[5]\n",
      "Test 52 Prediction: 5 True Label: 5\n",
      "[0]\n",
      "Test 53 Prediction: 0 True Label: 2\n",
      "[6]\n",
      "Test 54 Prediction: 6 True Label: 6\n",
      "[6]\n",
      "Test 55 Prediction: 6 True Label: 6\n",
      "[0]\n",
      "Test 56 Prediction: 0 True Label: 0\n",
      "[1]\n",
      "Test 57 Prediction: 1 True Label: 1\n",
      "[6]\n",
      "Test 58 Prediction: 6 True Label: 6\n",
      "[5]\n",
      "Test 59 Prediction: 5 True Label: 5\n",
      "[0]\n",
      "Test 60 Prediction: 0 True Label: 0\n",
      "[0]\n",
      "Test 61 Prediction: 0 True Label: 0\n",
      "[0]\n",
      "Test 62 Prediction: 0 True Label: 0\n",
      "[1]\n",
      "Test 63 Prediction: 1 True Label: 1\n",
      "[0]\n",
      "Test 64 Prediction: 0 True Label: 6\n",
      "[1]\n",
      "Test 65 Prediction: 1 True Label: 1\n",
      "[7]\n",
      "Test 66 Prediction: 7 True Label: 7\n",
      "[5]\n",
      "Test 67 Prediction: 5 True Label: 5\n",
      "[1]\n",
      "Test 68 Prediction: 1 True Label: 1\n",
      "[5]\n",
      "Test 69 Prediction: 5 True Label: 5\n",
      "[7]\n",
      "Test 70 Prediction: 7 True Label: 7\n",
      "[2]\n",
      "Test 71 Prediction: 2 True Label: 2\n",
      "[4]\n",
      "Test 72 Prediction: 4 True Label: 4\n",
      "[5]\n",
      "Test 73 Prediction: 5 True Label: 5\n",
      "[0]\n",
      "Test 74 Prediction: 0 True Label: 0\n",
      "[7]\n",
      "Test 75 Prediction: 7 True Label: 2\n",
      "[4]\n",
      "Test 76 Prediction: 4 True Label: 4\n",
      "[1]\n",
      "Test 77 Prediction: 1 True Label: 1\n",
      "[9]\n",
      "Test 78 Prediction: 9 True Label: 9\n",
      "[2]\n",
      "Test 79 Prediction: 2 True Label: 2\n",
      "[3]\n",
      "Test 80 Prediction: 3 True Label: 3\n",
      "[6]\n",
      "Test 81 Prediction: 6 True Label: 6\n",
      "[9]\n",
      "Test 82 Prediction: 9 True Label: 3\n",
      "[7]\n",
      "Test 83 Prediction: 7 True Label: 7\n",
      "[3]\n",
      "Test 84 Prediction: 3 True Label: 5\n",
      "[0]\n",
      "Test 85 Prediction: 0 True Label: 0\n",
      "[0]\n",
      "Test 86 Prediction: 0 True Label: 0\n",
      "[3]\n",
      "Test 87 Prediction: 3 True Label: 3\n",
      "[1]\n",
      "Test 88 Prediction: 1 True Label: 1\n",
      "[1]\n",
      "Test 89 Prediction: 1 True Label: 1\n",
      "[3]\n",
      "Test 90 Prediction: 3 True Label: 3\n",
      "[7]\n",
      "Test 91 Prediction: 7 True Label: 7\n",
      "[6]\n",
      "Test 92 Prediction: 6 True Label: 6\n",
      "[6]\n",
      "Test 93 Prediction: 6 True Label: 6\n",
      "[5]\n",
      "Test 94 Prediction: 5 True Label: 5\n",
      "[1]\n",
      "Test 95 Prediction: 1 True Label: 1\n",
      "[8]\n",
      "Test 96 Prediction: 8 True Label: 8\n",
      "[7]\n",
      "Test 97 Prediction: 7 True Label: 7\n",
      "[8]\n",
      "Test 98 Prediction: 8 True Label: 8\n",
      "[0]\n",
      "Test 99 Prediction: 0 True Label: 0\n",
      "[1]\n",
      "Test 100 Prediction: 1 True Label: 1\n",
      "[2]\n",
      "Test 101 Prediction: 2 True Label: 2\n",
      "[6]\n",
      "Test 102 Prediction: 6 True Label: 6\n",
      "[2]\n",
      "Test 103 Prediction: 2 True Label: 2\n",
      "[9]\n",
      "Test 104 Prediction: 9 True Label: 9\n",
      "[4]\n",
      "Test 105 Prediction: 4 True Label: 4\n",
      "[4]\n",
      "Test 106 Prediction: 4 True Label: 4\n",
      "[9]\n",
      "Test 107 Prediction: 9 True Label: 9\n",
      "[6]\n",
      "Test 108 Prediction: 6 True Label: 6\n",
      "[5]\n",
      "Test 109 Prediction: 5 True Label: 5\n",
      "[3]\n",
      "Test 110 Prediction: 3 True Label: 5\n",
      "[4]\n",
      "Test 111 Prediction: 4 True Label: 4\n",
      "[1]\n",
      "Test 112 Prediction: 1 True Label: 1\n",
      "[0]\n",
      "Test 113 Prediction: 0 True Label: 0\n",
      "[9]\n",
      "Test 114 Prediction: 9 True Label: 9\n",
      "[2]\n",
      "Test 115 Prediction: 2 True Label: 2\n",
      "[3]\n",
      "Test 116 Prediction: 3 True Label: 3\n",
      "[3]\n",
      "Test 117 Prediction: 3 True Label: 3\n",
      "[1]\n",
      "Test 118 Prediction: 1 True Label: 1\n",
      "[0]\n",
      "Test 119 Prediction: 0 True Label: 0\n",
      "[4]\n",
      "Test 120 Prediction: 4 True Label: 4\n",
      "[4]\n",
      "Test 121 Prediction: 4 True Label: 4\n",
      "[5]\n",
      "Test 122 Prediction: 5 True Label: 5\n",
      "[3]\n",
      "Test 123 Prediction: 3 True Label: 0\n",
      "[0]\n",
      "Test 124 Prediction: 0 True Label: 3\n",
      "[3]\n",
      "Test 125 Prediction: 3 True Label: 5\n",
      "[1]\n",
      "Test 126 Prediction: 1 True Label: 1\n",
      "[6]\n",
      "Test 127 Prediction: 6 True Label: 6\n",
      "[4]\n",
      "Test 128 Prediction: 4 True Label: 4\n",
      "[6]\n",
      "Test 129 Prediction: 6 True Label: 6\n",
      "[9]\n",
      "Test 130 Prediction: 9 True Label: 9\n",
      "[8]\n",
      "Test 131 Prediction: 8 True Label: 8\n",
      "[5]\n",
      "Test 132 Prediction: 5 True Label: 5\n",
      "[0]\n",
      "Test 133 Prediction: 0 True Label: 0\n",
      "[9]\n",
      "Test 134 Prediction: 9 True Label: 9\n",
      "[1]\n",
      "Test 135 Prediction: 1 True Label: 1\n",
      "[1]\n",
      "Test 136 Prediction: 1 True Label: 1\n",
      "[6]\n",
      "Test 137 Prediction: 6 True Label: 6\n",
      "[5]\n",
      "Test 138 Prediction: 5 True Label: 8\n",
      "[9]\n",
      "Test 139 Prediction: 9 True Label: 9\n",
      "[4]\n",
      "Test 140 Prediction: 4 True Label: 4\n",
      "[1]\n",
      "Test 141 Prediction: 1 True Label: 1\n",
      "[9]\n",
      "Test 142 Prediction: 9 True Label: 9\n",
      "[5]\n",
      "Test 143 Prediction: 5 True Label: 5\n",
      "[2]\n",
      "Test 144 Prediction: 2 True Label: 2\n",
      "[4]\n",
      "Test 145 Prediction: 4 True Label: 4\n",
      "[7]\n",
      "Test 146 Prediction: 7 True Label: 7\n",
      "[9]\n",
      "Test 147 Prediction: 9 True Label: 9\n",
      "[9]\n",
      "Test 148 Prediction: 9 True Label: 9\n",
      "[1]\n",
      "Test 149 Prediction: 1 True Label: 1\n",
      "[4]\n",
      "Test 150 Prediction: 4 True Label: 4\n",
      "[8]\n",
      "Test 151 Prediction: 8 True Label: 8\n",
      "[4]\n",
      "Test 152 Prediction: 4 True Label: 4\n",
      "[7]\n",
      "Test 153 Prediction: 7 True Label: 7\n",
      "[7]\n",
      "Test 154 Prediction: 7 True Label: 7\n",
      "[4]\n",
      "Test 155 Prediction: 4 True Label: 4\n",
      "[3]\n",
      "Test 156 Prediction: 3 True Label: 3\n",
      "[8]\n",
      "Test 157 Prediction: 8 True Label: 8\n",
      "[9]\n",
      "Test 158 Prediction: 9 True Label: 9\n",
      "[3]\n",
      "Test 159 Prediction: 3 True Label: 3\n",
      "[8]\n",
      "Test 160 Prediction: 8 True Label: 8\n",
      "[5]\n",
      "Test 161 Prediction: 5 True Label: 8\n",
      "[1]\n",
      "Test 162 Prediction: 1 True Label: 1\n",
      "[9]\n",
      "Test 163 Prediction: 9 True Label: 9\n",
      "[5]\n",
      "Test 164 Prediction: 5 True Label: 5\n",
      "[0]\n",
      "Test 165 Prediction: 0 True Label: 2\n",
      "[2]\n",
      "Test 166 Prediction: 2 True Label: 2\n",
      "[1]\n",
      "Test 167 Prediction: 1 True Label: 1\n",
      "[9]\n",
      "Test 168 Prediction: 9 True Label: 9\n",
      "[8]\n",
      "Test 169 Prediction: 8 True Label: 8\n",
      "[7]\n",
      "Test 170 Prediction: 7 True Label: 0\n",
      "[4]\n",
      "Test 171 Prediction: 4 True Label: 4\n",
      "[5]\n",
      "Test 172 Prediction: 5 True Label: 5\n",
      "[9]\n",
      "Test 173 Prediction: 9 True Label: 9\n",
      "[8]\n",
      "Test 174 Prediction: 8 True Label: 6\n",
      "[9]\n",
      "Test 175 Prediction: 9 True Label: 9\n",
      "[7]\n",
      "Test 176 Prediction: 7 True Label: 8\n",
      "[8]\n",
      "Test 177 Prediction: 8 True Label: 8\n",
      "[5]\n",
      "Test 178 Prediction: 5 True Label: 5\n",
      "[8]\n",
      "Test 179 Prediction: 8 True Label: 8\n",
      "[9]\n",
      "Test 180 Prediction: 9 True Label: 4\n",
      "[6]\n",
      "Test 181 Prediction: 6 True Label: 6\n",
      "[9]\n",
      "Test 182 Prediction: 9 True Label: 9\n",
      "[6]\n",
      "Test 183 Prediction: 6 True Label: 6\n",
      "[6]\n",
      "Test 184 Prediction: 6 True Label: 6\n",
      "[4]\n",
      "Test 185 Prediction: 4 True Label: 4\n",
      "[8]\n",
      "Test 186 Prediction: 8 True Label: 8\n",
      "[3]\n",
      "Test 187 Prediction: 3 True Label: 3\n",
      "[7]\n",
      "Test 188 Prediction: 7 True Label: 7\n",
      "[6]\n",
      "Test 189 Prediction: 6 True Label: 0\n",
      "[0]\n",
      "Test 190 Prediction: 0 True Label: 0\n",
      "[9]\n",
      "Test 191 Prediction: 9 True Label: 9\n",
      "[5]\n",
      "Test 192 Prediction: 5 True Label: 5\n",
      "[9]\n",
      "Test 193 Prediction: 9 True Label: 9\n",
      "[9]\n",
      "Test 194 Prediction: 9 True Label: 2\n",
      "[1]\n",
      "Test 195 Prediction: 1 True Label: 1\n",
      "[0]\n",
      "Test 196 Prediction: 0 True Label: 0\n",
      "[4]\n",
      "Test 197 Prediction: 4 True Label: 4\n",
      "[3]\n",
      "Test 198 Prediction: 3 True Label: 3\n",
      "[8]\n",
      "Test 199 Prediction: 8 True Label: 8\n",
      "Done!\n",
      "Accuracy: 0.8900000000000007\n"
     ]
    }
   ],
   "source": [
    "with tf.Session() as sess:\n",
    "    sess.run(init)\n",
    "\n",
    "    # loop over test data\n",
    "    for i in range(len(test_digits)):\n",
    "        # Get nearest neighbor\n",
    "        _, indices = sess.run(pred_knn_l1, \\\n",
    "        \tfeed_dict={training_digits_pl: training_digits, test_digit_pl: test_digits[i, :]})\n",
    "\n",
    "        predicted_label = get_majority_predicted_label(training_labels, indices)\n",
    "        # Get nearest neighbor class label and compare it to its true label\n",
    "        print(\"Test\", i, \"Prediction:\", predicted_label, \\\n",
    "            \"True Label:\", test_labels[i])\n",
    "\n",
    "        # Calculate accuracy\n",
    "        if predicted_label == test_labels[i]:\n",
    "            accuracy += 1./len(test_digits)\n",
    "\n",
    "    print(\"Done!\")\n",
    "    print(\"Accuracy:\", accuracy)"
   ]
  },
  {
   "cell_type": "code",
   "execution_count": null,
   "metadata": {},
   "outputs": [],
   "source": []
  }
 ],
 "metadata": {
  "kernelspec": {
   "display_name": "Python 3",
   "language": "python",
   "name": "python3"
  },
  "language_info": {
   "codemirror_mode": {
    "name": "ipython",
    "version": 3
   },
   "file_extension": ".py",
   "mimetype": "text/x-python",
   "name": "python",
   "nbconvert_exporter": "python",
   "pygments_lexer": "ipython3",
   "version": "3.7.6"
  }
 },
 "nbformat": 4,
 "nbformat_minor": 2
}
